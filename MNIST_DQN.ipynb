{
  "nbformat": 4,
  "nbformat_minor": 0,
  "metadata": {
    "colab": {
      "name": "MNIST_DQN.ipynb",
      "provenance": []
    },
    "kernelspec": {
      "name": "python3",
      "display_name": "Python 3"
    },
    "language_info": {
      "name": "python"
    }
  },
  "cells": [
    {
      "cell_type": "code",
      "source": [
        "NUM_CLASSES = 10"
      ],
      "metadata": {
        "id": "HuwNhYOkl3Fy"
      },
      "execution_count": 31,
      "outputs": []
    },
    {
      "cell_type": "code",
      "execution_count": 44,
      "metadata": {
        "id": "JHj5FYSGeGH-"
      },
      "outputs": [],
      "source": [
        "from tensorflow.keras.datasets import mnist\n",
        "(x_train, y_train), (x_test, y_test) = mnist.load_data()"
      ]
    },
    {
      "cell_type": "code",
      "source": [
        "import numpy as np\n",
        "x_train = np.expand_dims(x_train, axis=-1)\n",
        "y_train = np.expand_dims(y_train, axis=-1)\n",
        "\n",
        "x_train.shape, y_train.shape"
      ],
      "metadata": {
        "colab": {
          "base_uri": "https://localhost:8080/"
        },
        "id": "ZS_CNs-qk4Is",
        "outputId": "c0b05f5e-85bd-440d-dd20-e1d5d2c861a2"
      },
      "execution_count": 27,
      "outputs": [
        {
          "output_type": "execute_result",
          "data": {
            "text/plain": [
              "((60000, 28, 28, 1), (60000, 10, 1))"
            ]
          },
          "metadata": {},
          "execution_count": 27
        }
      ]
    },
    {
      "cell_type": "code",
      "source": [
        "from tensorflow.keras.layers import Input, Conv2D, Dense, Activation, MaxPool2D, Flatten\n",
        "from tensorflow.keras.optimizers import Adam\n",
        "from tensorflow.keras.models import Model\n",
        "\n",
        "input_shape = x_train.shape[1:] # cutting off index 0 ===> img number\n",
        "\n",
        "# input layer\n",
        "input = Input(shape=input_shape)\n",
        "\n",
        "# convolutional layers\n",
        "x = Conv2D(filters=32, kernel_size=(4, 4), strides=2, padding=\"same\")(input)\n",
        "x = Activation(\"relu\")(x)\n",
        "x = Conv2D(filters=64, kernel_size=(2, 2), strides=1, padding=\"same\")(x)\n",
        "x = Activation(\"relu\")(x)\n",
        "x = MaxPool2D()(x) # POOLING\n",
        "x = Conv2D(filters=64, kernel_size=(2, 2), strides=1, padding=\"same\")(x)\n",
        "x = Activation(\"relu\")(x)\n",
        "x = MaxPool2D()(x) # POOLING\n",
        "\n",
        "# flatten\n",
        "x = Flatten()(x)\n",
        "\n",
        "# dense layer\n",
        "x = Dense(128)(x)\n",
        "x = Activation(\"relu\")(x)\n",
        "\n",
        "# output layer\n",
        "out = Dense(NUM_CLASSES)(x)\n",
        "\n",
        "DQN = Model(inputs=input, outputs=out)"
      ],
      "metadata": {
        "id": "jjIStHZQjIZT"
      },
      "execution_count": 36,
      "outputs": []
    },
    {
      "cell_type": "code",
      "source": [
        "DQN.compile(\n",
        "    loss = \"categorical_crossentropy\",\n",
        "    optimizer = Adam(lr=0.001),\n",
        "    metrics = [\"accuracy\"])"
      ],
      "metadata": {
        "colab": {
          "base_uri": "https://localhost:8080/"
        },
        "id": "dnhupIO_ldnY",
        "outputId": "b0bb7a65-afcf-47c2-b03b-a3a064b7eed3"
      },
      "execution_count": 37,
      "outputs": [
        {
          "output_type": "stream",
          "name": "stderr",
          "text": [
            "/usr/local/lib/python3.7/dist-packages/keras/optimizer_v2/adam.py:105: UserWarning: The `lr` argument is deprecated, use `learning_rate` instead.\n",
            "  super(Adam, self).__init__(name, **kwargs)\n"
          ]
        }
      ]
    },
    {
      "cell_type": "code",
      "source": [
        "import matplotlib.pyplot as plt\n",
        "from sklearn.utils import shuffle\n",
        "\n",
        "x_train, y_train = shuffle(x_train, y_train)\n",
        "plt.imshow(x_train[0], cmap=\"gray\")\n",
        "plt.title(f\"Category: {y_train[0]}\")\n",
        "plt.show()"
      ],
      "metadata": {
        "colab": {
          "base_uri": "https://localhost:8080/",
          "height": 281
        },
        "id": "JNcwuBzXoriJ",
        "outputId": "2be86b16-4084-4226-e469-9cdd0703a4ba"
      },
      "execution_count": 53,
      "outputs": [
        {
          "output_type": "display_data",
          "data": {
            "text/plain": [
              "<Figure size 432x288 with 1 Axes>"
            ],
            "image/png": "[encoded data removed]"
          },
          "metadata": {
            "needs_background": "light"
          }
        }
      ]
    },
    {
      "cell_type": "code",
      "source": [
        "from tensorflow.keras.utils import to_categorical\n",
        "\n",
        "def get_data():\n",
        "    return shuffle(x_train, y_train)"
      ],
      "metadata": {
        "id": "0nKJnAKAp1qT"
      },
      "execution_count": 54,
      "outputs": []
    },
    {
      "cell_type": "code",
      "source": [
        "for _ in range(15):\n",
        "    x, y = get_data()\n",
        "    for i in range(x_train.shape[0]):\n",
        "        pass"
      ],
      "metadata": {
        "id": "BBZkyhn9m9dy"
      },
      "execution_count": 55,
      "outputs": []
    }
  ]
}
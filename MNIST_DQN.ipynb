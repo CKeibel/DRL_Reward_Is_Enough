{
  "nbformat": 4,
  "nbformat_minor": 0,
  "metadata": {
    "colab": {
      "name": "MNIST_DQN.ipynb",
      "provenance": [],
      "collapsed_sections": []
    },
    "kernelspec": {
      "name": "python3",
      "display_name": "Python 3"
    },
    "language_info": {
      "name": "python"
    },
    "accelerator": "GPU"
  },
  "cells": [
    {
      "cell_type": "code",
      "source": [
        "NUM_CLASSES = 10"
      ],
      "metadata": {
        "id": "HuwNhYOkl3Fy"
      },
      "execution_count": 1,
      "outputs": []
    },
    {
      "cell_type": "code",
      "execution_count": 2,
      "metadata": {
        "id": "JHj5FYSGeGH-"
      },
      "outputs": [],
      "source": [
        "from tensorflow.keras.datasets import mnist\n",
        "(x_train, y_train), (x_test, y_test) = mnist.load_data()"
      ]
    },
    {
      "cell_type": "code",
      "source": [
        "import matplotlib.pyplot as plt\n",
        "from sklearn.utils import shuffle\n",
        "\n",
        "x_train, y_train = shuffle(x_train, y_train)\n",
        "plt.imshow(x_train[0], cmap=\"gray\")\n",
        "plt.title(f\"Category: {y_train[0]}\")\n",
        "plt.show()"
      ],
      "metadata": {
        "colab": {
          "base_uri": "https://localhost:8080/",
          "height": 281
        },
        "id": "ZS_CNs-qk4Is",
        "outputId": "604f91e3-b50b-4a2f-8387-a3bd1cbd0155"
      },
      "execution_count": 3,
      "outputs": [
        {
          "output_type": "display_data",
          "data": {
            "text/plain": [
              "<Figure size 432x288 with 1 Axes>"
            ],
            "image/png": "[encoded data removed]"
          },
          "metadata": {
            "needs_background": "light"
          }
        }
      ]
    },
    {
      "cell_type": "code",
      "source": [
        "import numpy as np\n",
        "x_train = np.expand_dims(x_train, axis=-1)\n",
        "y_train = np.expand_dims(y_train, axis=-1)\n",
        "\n",
        "x_train.shape, y_train.shape"
      ],
      "metadata": {
        "colab": {
          "base_uri": "https://localhost:8080/"
        },
        "id": "IaOnQ1QKAfg2",
        "outputId": "b8aef33c-a26f-4b9e-8a3b-5cce60a8786d"
      },
      "execution_count": 4,
      "outputs": [
        {
          "output_type": "execute_result",
          "data": {
            "text/plain": [
              "((60000, 28, 28, 1), (60000, 1))"
            ]
          },
          "metadata": {},
          "execution_count": 4
        }
      ]
    },
    {
      "cell_type": "code",
      "source": [
        "from tensorflow.keras.layers import Input, Conv2D, Dense, Activation, MaxPool2D, Flatten\n",
        "from tensorflow.keras.optimizers import Adam\n",
        "from tensorflow.keras.models import Model\n",
        "\n",
        "input_shape = x_train.shape[1:] # cutting off index 0 ===> img number\n",
        "\n",
        "# input layer\n",
        "input = Input(shape=input_shape)\n",
        "\n",
        "# convolutional layers\n",
        "x = Conv2D(filters=32, kernel_size=(4, 4), strides=2, padding=\"same\")(input)\n",
        "x = Activation(\"relu\")(x)\n",
        "x = Conv2D(filters=64, kernel_size=(2, 2), strides=1, padding=\"same\")(x)\n",
        "x = Activation(\"relu\")(x)\n",
        "x = MaxPool2D()(x) # POOLING\n",
        "x = Conv2D(filters=64, kernel_size=(2, 2), strides=1, padding=\"same\")(x)\n",
        "x = Activation(\"relu\")(x)\n",
        "x = MaxPool2D()(x) # POOLING\n",
        "\n",
        "# flatten\n",
        "x = Flatten()(x)\n",
        "\n",
        "# dense layer\n",
        "x = Dense(128)(x)\n",
        "x = Activation(\"relu\")(x)\n",
        "\n",
        "# output layer\n",
        "out = Dense(NUM_CLASSES)(x)\n",
        "\n",
        "DQN = Model(inputs=input, outputs=out)"
      ],
      "metadata": {
        "id": "jjIStHZQjIZT"
      },
      "execution_count": 5,
      "outputs": []
    },
    {
      "cell_type": "code",
      "source": [
        "DQN.compile(\n",
        "    loss = \"mean_squared_error\",\n",
        "    optimizer = Adam(lr=0.001)\n",
        "    )"
      ],
      "metadata": {
        "colab": {
          "base_uri": "https://localhost:8080/"
        },
        "id": "dnhupIO_ldnY",
        "outputId": "3aca905f-9ca2-46e7-f350-3f5b1b22affd"
      },
      "execution_count": 6,
      "outputs": [
        {
          "output_type": "stream",
          "name": "stderr",
          "text": [
            "/usr/local/lib/python3.7/dist-packages/keras/optimizer_v2/adam.py:105: UserWarning: The `lr` argument is deprecated, use `learning_rate` instead.\n",
            "  super(Adam, self).__init__(name, **kwargs)\n"
          ]
        }
      ]
    },
    {
      "cell_type": "code",
      "source": [
        "from tensorflow.keras.utils import to_categorical\n",
        "\n",
        "def get_data():\n",
        "    return shuffle(x_train, y_train)"
      ],
      "metadata": {
        "id": "0nKJnAKAp1qT"
      },
      "execution_count": 7,
      "outputs": []
    },
    {
      "cell_type": "code",
      "source": [
        "# Memory Buffer\n",
        "from collections import deque\n",
        "MEMORY_SIZE = 25000\n",
        "MEMORY_BUFFER = deque(maxlen=MEMORY_SIZE)\n",
        "TRAIN_START = 500\n",
        "\n",
        "def save_choice(x, choice, reward):\n",
        "    MEMORY_BUFFER.append([x, choice, reward])"
      ],
      "metadata": {
        "id": "-ckdY80q5-mR"
      },
      "execution_count": 8,
      "outputs": []
    },
    {
      "cell_type": "code",
      "source": [
        "GAMMA = 0 # future reward isn't important\n",
        "BATCH_SIZE = 32\n",
        "\n",
        "# Experience Replay\n",
        "def replay():\n",
        "    minibatch = random.sample(MEMORY_BUFFER, BATCH_SIZE)\n",
        "    x_samples, choices, rewards = zip(*minibatch)\n",
        "\n",
        "    q_values = DQN.predict(x_samples)\n",
        "\n",
        "    for i in range(BATCH_SIZE):\n",
        "        choice = choices[i]\n",
        "        q_values[i][choice] = rewards[i] + GAMMA * np.max(q_values_next[i])\n",
        "\n",
        "    DQN.fit(x_samples, q_values, batch_size=BATCH_SIZE, verbose=0)"
      ],
      "metadata": {
        "id": "taAgey3c6DQN"
      },
      "execution_count": 9,
      "outputs": []
    },
    {
      "cell_type": "code",
      "source": [
        "# predict\n",
        "EPSILON = 1\n",
        "def choose(datapoint):\n",
        "    if np.random.rand() <= EPSILON:\n",
        "        return np.random.randint(NUM_CLASSES)\n",
        "    else:\n",
        "        return np.argmax(DQN(datapoint))"
      ],
      "metadata": {
        "id": "14Np-WSK6IPo"
      },
      "execution_count": 10,
      "outputs": []
    },
    {
      "cell_type": "code",
      "source": [
        "EPSILON_MIN = 0.3\n",
        "EPSILON_DECAY = 0.99\n",
        "\n",
        "for _ in range(50):\n",
        "    # get shuffled data\n",
        "    x, y = get_data()\n",
        "    sum_reward = 0\n",
        "    for i in range(x_train.shape[0]):\n",
        "        # choose a category\n",
        "        choice = choose(x[i])\n",
        "\n",
        "        # epsilon decay\n",
        "        if EPSILON > EPSILON_MIN:\n",
        "            EPSILON *= EPSILON_DECAY\n",
        "\n",
        "        # reward choice\n",
        "        reward = 0\n",
        "        if y[i] == choice:\n",
        "            reward = 1\n",
        "        else:\n",
        "            reward = 0\n",
        "\n",
        "        sum_reward += reward\n",
        "\n",
        "        # save in memory buffer\n",
        "        save_choice(x, choice, reward)\n",
        "\n",
        "        if len(MEMORY_BUFFER) >= TRAIN_START:\n",
        "            replay()\n",
        "\n",
        "    print(f\"{sum_reward}/{x_train.shape[0]} right - Eps: {EPSILON}\")"
      ],
      "metadata": {
        "id": "BBZkyhn9m9dy"
      },
      "execution_count": null,
      "outputs": []
    },
    {
      "cell_type": "code",
      "source": [
        "# test"
      ],
      "metadata": {
        "id": "Zocp6DzU6PIG"
      },
      "execution_count": null,
      "outputs": []
    }
  ]
}